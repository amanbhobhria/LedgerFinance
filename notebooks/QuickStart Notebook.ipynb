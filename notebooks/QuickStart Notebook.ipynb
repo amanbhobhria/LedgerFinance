{
 "cells": [
  {
   "cell_type": "code",
   "execution_count": null,
   "metadata": {
    "ExecuteTime": {
     "end_time": "2023-12-14T18:23:59.183451Z",
     "start_time": "2023-12-14T18:23:58.858369Z"
    },
    "tags": []
   },
   "outputs": [],
   "source": [
    "import os\n",
    "from datetime import date, datetime\n",
    "from decimal import Decimal\n",
    "from random import randint, choices, random\n",
    "from zoneinfo import ZoneInfo\n",
    "\n",
    "import django\n",
    "# for easier visualization it is recommended to use pandas to render data...\n",
    "# if pandas is not installed, you may install it with this command: pip install -U pandas\n",
    "# pandas is not a dependency of django_ledger...\n",
    "import pandas as pd\n",
    "from django.core.exceptions import ObjectDoesNotExist\n",
    "\n",
    "# Set your django settings module if needed...\n",
    "os.environ['DJANGO_SETTINGS_MODULE'] = 'dev_env.settings'\n",
    "\n",
    "# if using jupyter notebook need to set DJANGO_ALLOW_ASYNC_UNSAFE as \"true\"\n",
    "os.environ['DJANGO_ALLOW_ASYNC_UNSAFE'] = 'true'\n",
    "\n",
    "# change your working directory as needed...\n",
    "os.chdir('../')\n",
    "\n",
    "django.setup()\n",
    "\n",
    "from django_ledger.models.entity import EntityModel\n",
    "from django_ledger.models.items import ItemModel\n",
    "from django_ledger.models.invoice import InvoiceModel\n",
    "from django_ledger.models.bill import BillModel\n",
    "from django_ledger.models.estimate import EstimateModel\n",
    "from django.contrib.auth import get_user_model\n",
    "from django_ledger.io import roles, DEBIT, CREDIT\n",
    "from django_ledger.io.io_library import IOBluePrint, IOLibrary"
   ]
  },
  {
   "cell_type": "markdown",
   "metadata": {},
   "source": [
    "# Get Your Entity Administrator UserModel"
   ]
  },
  {
   "cell_type": "code",
   "execution_count": null,
   "metadata": {
    "ExecuteTime": {
     "end_time": "2023-12-14T18:23:59.340490Z",
     "start_time": "2023-12-14T18:23:59.296066Z"
    },
    "tags": []
   },
   "outputs": [],
   "source": [
    "# change this to your preferred django username...\n",
    "MY_USERNAME = 'ceo_user'\n",
    "MY_PASSWORD = 'NeverUseMe|VeryInsecure!'\n",
    "UserModel = get_user_model()\n",
    "\n",
    "try:\n",
    "    user_model = UserModel.objects.get(username__exact=MY_USERNAME)\n",
    "except:\n",
    "    user_model = UserModel(username=MY_USERNAME)\n",
    "    user_model.set_password(MY_PASSWORD)\n",
    "    user_model.save()"
   ]
  },
  {
   "cell_type": "markdown",
   "metadata": {},
   "source": [
    "# Get or Create an Entity Model"
   ]
  },
  {
   "cell_type": "code",
   "execution_count": null,
   "metadata": {
    "ExecuteTime": {
     "end_time": "2023-12-14T18:23:59.691324Z",
     "start_time": "2023-12-14T18:23:59.653972Z"
    },
    "tags": []
   },
   "outputs": [],
   "source": [
    "ENTITY_NAME = 'One Big Company, LLC'\n",
    "\n",
    "entity_model = EntityModel.create_entity(\n",
    "    name=ENTITY_NAME,\n",
    "    admin=user_model,\n",
    "    use_accrual_method=True,\n",
    "    fy_start_month=1\n",
    ")\n",
    "\n",
    "entity_model"
   ]
  },
  {
   "cell_type": "markdown",
   "metadata": {},
   "source": [
    "# Chart of Accounts"
   ]
  },
  {
   "cell_type": "markdown",
   "metadata": {},
   "source": [
    "## Create a Default Chart of Accounts\n",
    "- Newly created EntityModel do not have a default Code of Accounts yet."
   ]
  },
  {
   "cell_type": "code",
   "execution_count": null,
   "metadata": {
    "ExecuteTime": {
     "end_time": "2023-12-14T18:24:00.188456Z",
     "start_time": "2023-12-14T18:24:00.152056Z"
    },
    "tags": []
   },
   "outputs": [],
   "source": [
    "entity_model.has_default_coa()"
   ]
  },
  {
   "cell_type": "code",
   "execution_count": null,
   "metadata": {
    "ExecuteTime": {
     "end_time": "2023-12-14T18:24:00.363314Z",
     "start_time": "2023-12-14T18:24:00.327897Z"
    },
    "tags": []
   },
   "outputs": [],
   "source": [
    "default_coa_model = entity_model.create_chart_of_accounts(\n",
    "    assign_as_default=True,\n",
    "    commit=True,\n",
    "    coa_name='My QuickStart CoA'\n",
    ")"
   ]
  },
  {
   "cell_type": "code",
   "execution_count": null,
   "metadata": {
    "ExecuteTime": {
     "end_time": "2023-12-14T18:24:00.522431Z",
     "start_time": "2023-12-14T18:24:00.508906Z"
    },
    "tags": []
   },
   "outputs": [],
   "source": [
    "default_coa_model"
   ]
  },
  {
   "cell_type": "code",
   "execution_count": null,
   "metadata": {
    "ExecuteTime": {
     "end_time": "2023-12-14T18:24:00.733668Z",
     "start_time": "2023-12-14T18:24:00.692071Z"
    },
    "collapsed": false
   },
   "outputs": [],
   "source": [
    "entity_model.default_coa == default_coa_model"
   ]
  },
  {
   "cell_type": "markdown",
   "metadata": {},
   "source": [
    "# Populate Entity with Random Data (Optional)"
   ]
  },
  {
   "cell_type": "markdown",
   "metadata": {},
   "source": [
    "### Define a Start Date for Transactions"
   ]
  },
  {
   "cell_type": "code",
   "execution_count": null,
   "metadata": {
    "ExecuteTime": {
     "end_time": "2023-12-14T18:24:01.259257Z",
     "start_time": "2023-12-14T18:24:01.220848Z"
    },
    "tags": []
   },
   "outputs": [],
   "source": [
    "START_DTTM = datetime(year=2022, month=10, day=1, tzinfo=ZoneInfo('UTC'))"
   ]
  },
  {
   "cell_type": "markdown",
   "metadata": {
    "collapsed": false
   },
   "source": [
    "- This action will populate the EntityModel with random data.\n",
    "- It will populate a Code of Accounts using a default pre-defined list.\n",
    "- This approach is for illustration, educational and testing purposes, not encouraged for new production entities."
   ]
  },
  {
   "cell_type": "code",
   "execution_count": null,
   "metadata": {
    "ExecuteTime": {
     "end_time": "2023-12-14T18:24:04.607382Z",
     "start_time": "2023-12-14T18:24:01.570761Z"
    },
    "tags": []
   },
   "outputs": [],
   "source": [
    "entity_model.populate_random_data(start_date=START_DTTM)"
   ]
  },
  {
   "cell_type": "markdown",
   "metadata": {},
   "source": [
    "### EntityModel has now a Default Chart of Accounts"
   ]
  },
  {
   "cell_type": "code",
   "execution_count": null,
   "metadata": {
    "ExecuteTime": {
     "end_time": "2023-12-14T18:24:04.610116Z",
     "start_time": "2023-12-14T18:24:04.558571Z"
    },
    "tags": []
   },
   "outputs": [],
   "source": [
    "entity_model.has_default_coa()"
   ]
  },
  {
   "cell_type": "code",
   "execution_count": null,
   "metadata": {
    "ExecuteTime": {
     "end_time": "2023-12-14T18:24:04.612220Z",
     "start_time": "2023-12-14T18:24:04.560756Z"
    },
    "tags": []
   },
   "outputs": [],
   "source": [
    "default_coa_model = entity_model.get_default_coa()\n",
    "default_coa_model"
   ]
  },
  {
   "cell_type": "markdown",
   "metadata": {},
   "source": [
    "# Chart of Accounts (CoA)\n",
    "- A Chart of Accounts is a user-defined list of accounts. \n",
    "- Each Entity Model must have at least one default Chart of Accounts."
   ]
  },
  {
   "cell_type": "markdown",
   "metadata": {},
   "source": [
    "## Django Ledger support multiple chart of accounts."
   ]
  },
  {
   "cell_type": "code",
   "execution_count": null,
   "metadata": {
    "ExecuteTime": {
     "end_time": "2023-12-14T18:24:04.623766Z",
     "start_time": "2023-12-14T18:24:04.562980Z"
    },
    "tags": []
   },
   "outputs": [],
   "source": [
    "another_coa_model = entity_model.create_chart_of_accounts(\n",
    "    assign_as_default=False,\n",
    "    commit=True,\n",
    "    coa_name='My Empty Chart of Accounts'\n",
    ")"
   ]
  },
  {
   "cell_type": "code",
   "execution_count": null,
   "metadata": {
    "ExecuteTime": {
     "end_time": "2023-12-14T18:24:04.626129Z",
     "start_time": "2023-12-14T18:24:04.582327Z"
    },
    "collapsed": false
   },
   "outputs": [],
   "source": [
    "another_coa_model"
   ]
  },
  {
   "cell_type": "markdown",
   "metadata": {},
   "source": [
    "# Accounts"
   ]
  },
  {
   "cell_type": "markdown",
   "metadata": {
    "collapsed": false
   },
   "source": [
    "## Default CoA Accounts"
   ]
  },
  {
   "cell_type": "code",
   "execution_count": null,
   "metadata": {
    "ExecuteTime": {
     "end_time": "2023-12-14T18:24:04.632916Z",
     "start_time": "2023-12-14T18:24:04.584498Z"
    },
    "tags": []
   },
   "outputs": [],
   "source": [
    "default_coa_accounts_qs = entity_model.get_default_coa_accounts()\n",
    "pd.DataFrame(default_coa_accounts_qs)"
   ]
  },
  {
   "cell_type": "markdown",
   "metadata": {},
   "source": [
    "## Get CoA Accounts by CoA Model"
   ]
  },
  {
   "cell_type": "code",
   "execution_count": null,
   "metadata": {
    "ExecuteTime": {
     "end_time": "2023-12-14T18:24:04.635478Z",
     "start_time": "2023-12-14T18:24:04.592420Z"
    },
    "tags": []
   },
   "outputs": [],
   "source": [
    "coa_accounts_by_coa_model_qs = entity_model.get_coa_accounts(coa_model=default_coa_model)\n",
    "pd.DataFrame(coa_accounts_by_coa_model_qs)"
   ]
  },
  {
   "cell_type": "markdown",
   "metadata": {
    "collapsed": false
   },
   "source": [
    "No Accounts yet on this CoA..."
   ]
  },
  {
   "cell_type": "code",
   "execution_count": null,
   "metadata": {
    "ExecuteTime": {
     "end_time": "2023-12-14T18:24:04.637576Z",
     "start_time": "2023-12-14T18:24:04.598239Z"
    },
    "collapsed": false
   },
   "outputs": [],
   "source": [
    "coa_accounts_by_coa_model_qs = entity_model.get_coa_accounts(coa_model=another_coa_model)\n",
    "pd.DataFrame(coa_accounts_by_coa_model_qs)"
   ]
  },
  {
   "cell_type": "markdown",
   "metadata": {},
   "source": [
    "## Get CoA Accounts by CoA Model UUID\n",
    "- May pass UUID instance instead of ChartOF AccountsModel..."
   ]
  },
  {
   "cell_type": "code",
   "execution_count": null,
   "metadata": {
    "ExecuteTime": {
     "end_time": "2023-12-14T18:24:04.703137Z",
     "start_time": "2023-12-14T18:24:04.600757Z"
    },
    "tags": []
   },
   "outputs": [],
   "source": [
    "coa_accounts_by_coa_uuid_qs = entity_model.get_coa_accounts(coa_model=default_coa_model.uuid)\n",
    "pd.DataFrame(coa_accounts_by_coa_uuid_qs)"
   ]
  },
  {
   "cell_type": "markdown",
   "metadata": {},
   "source": [
    "## Get CoA Accounts by CoA Model Slug\n",
    "- If string is passed, will lookup by slug..."
   ]
  },
  {
   "cell_type": "code",
   "execution_count": null,
   "metadata": {
    "ExecuteTime": {
     "end_time": "2023-12-14T18:24:05.064206Z",
     "start_time": "2023-12-14T18:24:04.979391Z"
    },
    "tags": []
   },
   "outputs": [],
   "source": [
    "coa_accounts_by_coa_slug_qs = entity_model.get_coa_accounts(coa_model=default_coa_model.slug)\n",
    "pd.DataFrame(coa_accounts_by_coa_slug_qs)"
   ]
  },
  {
   "cell_type": "markdown",
   "metadata": {},
   "source": [
    "## Get Accounts With Codes and CoA Model\n",
    "- Assumes default CoA if no coa_model is passed..."
   ]
  },
  {
   "cell_type": "code",
   "execution_count": null,
   "metadata": {
    "ExecuteTime": {
     "end_time": "2023-12-14T18:24:05.885119Z",
     "start_time": "2023-12-14T18:24:05.842699Z"
    },
    "tags": []
   },
   "outputs": [],
   "source": [
    "coa_accounts_by_codes_qs = entity_model.get_accounts_with_codes(code_list=['1010', '1050'])\n",
    "pd.DataFrame(coa_accounts_by_codes_qs)"
   ]
  },
  {
   "cell_type": "markdown",
   "metadata": {
    "collapsed": false
   },
   "source": [
    "Empty ChartOfAccountModel..."
   ]
  },
  {
   "cell_type": "code",
   "execution_count": null,
   "metadata": {
    "ExecuteTime": {
     "end_time": "2023-12-14T18:24:07.892715Z",
     "start_time": "2023-12-14T18:24:07.841515Z"
    },
    "collapsed": false
   },
   "outputs": [],
   "source": [
    "coa_accounts_by_codes_qs = entity_model.get_accounts_with_codes(\n",
    "    code_list=['1010', '1050'], \n",
    "    coa_model=another_coa_model\n",
    ")\n",
    "pd.DataFrame(coa_accounts_by_codes_qs)"
   ]
  },
  {
   "cell_type": "markdown",
   "metadata": {
    "collapsed": false
   },
   "source": [
    "### Get All Accounts at Once"
   ]
  },
  {
   "cell_type": "code",
   "execution_count": null,
   "metadata": {
    "ExecuteTime": {
     "end_time": "2023-12-14T18:24:08.264794Z",
     "start_time": "2023-12-14T18:24:08.224705Z"
    },
    "collapsed": false
   },
   "outputs": [],
   "source": [
    "coa_qs, coa_map = entity_model.get_all_coa_accounts()"
   ]
  },
  {
   "cell_type": "markdown",
   "metadata": {
    "collapsed": false
   },
   "source": [
    "A dictionary, CoA Model -> Account List."
   ]
  },
  {
   "cell_type": "code",
   "execution_count": null,
   "metadata": {
    "ExecuteTime": {
     "end_time": "2023-12-14T18:24:08.603414Z",
     "start_time": "2023-12-14T18:24:08.583298Z"
    },
    "collapsed": false
   },
   "outputs": [],
   "source": [
    "coa_map"
   ]
  },
  {
   "cell_type": "code",
   "execution_count": null,
   "metadata": {
    "ExecuteTime": {
     "end_time": "2023-12-14T18:24:08.803263Z",
     "start_time": "2023-12-14T18:24:08.784803Z"
    },
    "collapsed": false
   },
   "outputs": [],
   "source": [
    "pd.DataFrame(coa_map[default_coa_model])"
   ]
  },
  {
   "cell_type": "code",
   "execution_count": null,
   "metadata": {
    "ExecuteTime": {
     "end_time": "2023-12-14T18:24:09.012966Z",
     "start_time": "2023-12-14T18:24:08.968102Z"
    },
    "collapsed": false
   },
   "outputs": [],
   "source": [
    "pd.DataFrame(coa_map[another_coa_model])"
   ]
  },
  {
   "cell_type": "markdown",
   "metadata": {},
   "source": [
    "## Create Account Model\n",
    "- Creating AccountModel into empty \"another_coa_model\"..."
   ]
  },
  {
   "cell_type": "code",
   "execution_count": null,
   "metadata": {
    "ExecuteTime": {
     "end_time": "2023-12-14T18:24:09.343683Z",
     "start_time": "2023-12-14T18:24:09.323916Z"
    },
    "tags": []
   },
   "outputs": [],
   "source": [
    "account_model = entity_model.create_account(\n",
    "    coa_model=another_coa_model,\n",
    "    code=f'1{str(randint(10000, 99999))}',\n",
    "    role=roles.ASSET_CA_INVENTORY,\n",
    "    name='A cool account created from the EntityModel API!',\n",
    "    balance_type=roles.DEBIT,\n",
    "    active=True)"
   ]
  },
  {
   "cell_type": "code",
   "execution_count": null,
   "metadata": {
    "ExecuteTime": {
     "end_time": "2023-12-14T18:24:09.795253Z",
     "start_time": "2023-12-14T18:24:09.778516Z"
    },
    "tags": []
   },
   "outputs": [],
   "source": [
    "account_model"
   ]
  },
  {
   "cell_type": "code",
   "execution_count": null,
   "metadata": {
    "ExecuteTime": {
     "end_time": "2023-12-14T18:24:10.133384Z",
     "start_time": "2023-12-14T18:24:10.086157Z"
    },
    "tags": []
   },
   "outputs": [],
   "source": [
    "another_coa_accounts_qs = entity_model.get_coa_accounts(coa_model=another_coa_model)\n",
    "pd.DataFrame(another_coa_accounts_qs)"
   ]
  },
  {
   "cell_type": "markdown",
   "metadata": {
    "collapsed": false
   },
   "source": [
    "# Basic Django Ledger Usage\n",
    "- The LedgerModel name is whatever your heart desires.\n",
    "- Examples:\n",
    "    - A month.\n",
    "    - A customer.\n",
    "    - A vendor.\n",
    "    - A project.\n",
    "- The more ledgers are created, the more segregation and control over transactions is possible."
   ]
  },
  {
   "cell_type": "code",
   "execution_count": null,
   "metadata": {
    "ExecuteTime": {
     "end_time": "2023-12-14T18:24:10.820988Z",
     "start_time": "2023-12-14T18:24:10.755461Z"
    },
    "collapsed": false
   },
   "outputs": [],
   "source": [
    "ledger_model = entity_model.create_ledger(name='My October 2023 Ledger', posted=True)"
   ]
  },
  {
   "cell_type": "markdown",
   "metadata": {},
   "source": [
    "## Create a Library"
   ]
  },
  {
   "cell_type": "code",
   "execution_count": null,
   "metadata": {},
   "outputs": [],
   "source": [
    "library = IOLibrary(name='quickstart-library')"
   ]
  },
  {
   "cell_type": "markdown",
   "metadata": {},
   "source": [
    "## Create and Register a BluePrint"
   ]
  },
  {
   "cell_type": "code",
   "execution_count": null,
   "metadata": {},
   "outputs": [],
   "source": [
    "@library.register\n",
    "def sale_blueprint(\n",
    "        sale_amount,\n",
    "        contribution_margin_percent: float,\n",
    "        description: str = None\n",
    ") -> IOBluePrint:\n",
    "    blueprint = IOBluePrint()\n",
    "    cogs_amount = (1 - contribution_margin_percent) * sale_amount\n",
    "    blueprint.debit(account_code='1010', amount=sale_amount, description=description)\n",
    "    blueprint.credit(account_code='4010', amount=sale_amount, description=description)\n",
    "    blueprint.credit(account_code='1200', amount=cogs_amount, description=description)\n",
    "    blueprint.debit(account_code='5010', amount=cogs_amount, description=description)\n",
    "    return blueprint"
   ]
  },
  {
   "cell_type": "markdown",
   "metadata": {},
   "source": [
    "## Get a Cursor"
   ]
  },
  {
   "cell_type": "code",
   "execution_count": null,
   "metadata": {},
   "outputs": [],
   "source": [
    "cursor = library.get_cursor(entity_model=entity_model, user_model=user_model)"
   ]
  },
  {
   "cell_type": "markdown",
   "metadata": {},
   "source": [
    "## Dispatch Some Instructions"
   ]
  },
  {
   "cell_type": "code",
   "execution_count": null,
   "metadata": {},
   "outputs": [],
   "source": [
    "cursor.dispatch('sale_blueprint',\n",
    "                ledger_model='ledger-test-1',\n",
    "                sale_amount=120.345,\n",
    "                contribution_margin_percent=0.25,\n",
    "                description='so cool')\n",
    "cursor.dispatch('sale_blueprint',\n",
    "                ledger_model='ledger-test-1',\n",
    "                sale_amount=12.345,\n",
    "                contribution_margin_percent=0.2,\n",
    "                description='so cool')\n",
    "cursor.dispatch('sale_blueprint',\n",
    "                ledger_model=ledger_model,\n",
    "                sale_amount=34.455,\n",
    "                contribution_margin_percent=0.13,\n",
    "                description='so cool')\n",
    "cursor.dispatch('sale_blueprint',\n",
    "                ledger_model='ledger-test-12',\n",
    "                sale_amount=90.43,\n",
    "                contribution_margin_percent=0.17,\n",
    "                description='so cool')"
   ]
  },
  {
   "cell_type": "markdown",
   "metadata": {},
   "source": [
    "## Commit Your Instructions\n",
    "Not recommended to post both ledger and journal entries. Posted transactions will immediately hit the books.\n",
    "**result** contains resulting ledger models, journal entries and transactions fro the committed "
   ]
  },
  {
   "cell_type": "code",
   "execution_count": null,
   "metadata": {},
   "outputs": [],
   "source": [
    "result = cursor.commit(\n",
    "    post_new_ledgers=True,\n",
    "    post_journal_entries=True,\n",
    "    je_timestamp='2023-12-02 12:00'\n",
    ")"
   ]
  },
  {
   "cell_type": "code",
   "execution_count": null,
   "metadata": {},
   "outputs": [],
   "source": [
    "# result"
   ]
  },
  {
   "cell_type": "markdown",
   "metadata": {
    "collapsed": false
   },
   "source": [
    "### Get Financial Statement Report Data fro Ledger Model"
   ]
  },
  {
   "cell_type": "markdown",
   "metadata": {
    "collapsed": false
   },
   "source": [
    "Balance Sheet"
   ]
  },
  {
   "cell_type": "code",
   "execution_count": null,
   "metadata": {
    "ExecuteTime": {
     "end_time": "2023-12-14T18:24:16.004384Z",
     "start_time": "2023-12-14T18:24:15.969223Z"
    },
    "collapsed": false
   },
   "outputs": [],
   "source": [
    "bs_data = ledger_model.digest_balance_sheet(\n",
    "    to_date=date(2023, 12, 31),\n",
    "    entity_slug=entity_model\n",
    ")\n",
    "\n",
    "bs_data.get_balance_sheet_data()"
   ]
  },
  {
   "cell_type": "markdown",
   "metadata": {
    "collapsed": false
   },
   "source": [
    "Income Statement"
   ]
  },
  {
   "cell_type": "code",
   "execution_count": null,
   "metadata": {
    "ExecuteTime": {
     "end_time": "2023-12-14T18:24:17.023819Z",
     "start_time": "2023-12-14T18:24:17.003195Z"
    },
    "collapsed": false
   },
   "outputs": [],
   "source": [
    "is_data = ledger_model.digest_income_statement(\n",
    "    from_date=date(2023, 1, 1),\n",
    "    to_date=date(2023, 12, 31),\n",
    "    entity_slug=entity_model\n",
    ")\n",
    "is_data.get_income_statement_data()"
   ]
  },
  {
   "cell_type": "markdown",
   "metadata": {
    "collapsed": false
   },
   "source": [
    "Cash Flow Statement"
   ]
  },
  {
   "cell_type": "code",
   "execution_count": null,
   "metadata": {
    "ExecuteTime": {
     "end_time": "2023-12-14T18:24:17.595825Z",
     "start_time": "2023-12-14T18:24:17.560678Z"
    },
    "collapsed": false
   },
   "outputs": [],
   "source": [
    "cfs_data = ledger_model.digest_cash_flow_statement(\n",
    "    from_date=date(2023, 1, 1),\n",
    "    to_date=date(2023, 12, 31),\n",
    "    entity_slug=entity_model\n",
    ")\n",
    "\n",
    "cfs_data.get_cash_flow_statement_data()"
   ]
  },
  {
   "cell_type": "markdown",
   "metadata": {
    "collapsed": false
   },
   "source": [
    "All Statements in a Single Call"
   ]
  },
  {
   "cell_type": "code",
   "execution_count": null,
   "metadata": {
    "ExecuteTime": {
     "end_time": "2023-12-14T18:28:20.342930Z",
     "start_time": "2023-12-14T18:28:20.324301Z"
    },
    "collapsed": false
   },
   "outputs": [],
   "source": [
    "fin_digest = ledger_model.digest_financial_statements(\n",
    "    from_date=date(2023, 1, 1),\n",
    "    to_date=date(2023, 12, 31),\n",
    "    entity_slug=entity_model\n",
    ")\n",
    "\n",
    "statement_data = fin_digest.get_financial_statements_data()"
   ]
  },
  {
   "cell_type": "code",
   "execution_count": null,
   "metadata": {
    "ExecuteTime": {
     "end_time": "2023-12-14T18:28:20.914592Z",
     "start_time": "2023-12-14T18:28:20.877785Z"
    },
    "collapsed": false
   },
   "outputs": [],
   "source": [
    "statement_data['balance_sheet']"
   ]
  },
  {
   "cell_type": "code",
   "execution_count": null,
   "metadata": {
    "ExecuteTime": {
     "end_time": "2023-12-14T18:28:21.283830Z",
     "start_time": "2023-12-14T18:28:21.270719Z"
    },
    "collapsed": false
   },
   "outputs": [],
   "source": [
    "statement_data['income_statement']"
   ]
  },
  {
   "cell_type": "code",
   "execution_count": null,
   "metadata": {
    "ExecuteTime": {
     "end_time": "2023-12-14T18:28:21.830753Z",
     "start_time": "2023-12-14T18:28:21.801953Z"
    },
    "collapsed": false
   },
   "outputs": [],
   "source": [
    "statement_data['cash_flow_statement']"
   ]
  },
  {
   "cell_type": "markdown",
   "metadata": {},
   "source": [
    "# Customers"
   ]
  },
  {
   "cell_type": "markdown",
   "metadata": {},
   "source": [
    "## Get Customers"
   ]
  },
  {
   "cell_type": "code",
   "execution_count": null,
   "metadata": {
    "ExecuteTime": {
     "end_time": "2023-12-14T18:24:18.564041Z",
     "start_time": "2023-12-14T18:24:18.514100Z"
    },
    "tags": []
   },
   "outputs": [],
   "source": [
    "customer_qs = entity_model.get_customers()\n",
    "pd.DataFrame(customer_qs.values())"
   ]
  },
  {
   "cell_type": "markdown",
   "metadata": {},
   "source": [
    "## Create Customers"
   ]
  },
  {
   "cell_type": "code",
   "execution_count": null,
   "metadata": {
    "ExecuteTime": {
     "end_time": "2023-11-13T17:38:49.870087Z",
     "start_time": "2023-11-13T17:38:49.842828Z"
    },
    "tags": []
   },
   "outputs": [],
   "source": [
    "customer_model = entity_model.create_customer(customer_model_kwargs={\n",
    "    'customer_name': 'Mr. Big',\n",
    "    'description': 'A great paying customer!',\n",
    "})"
   ]
  },
  {
   "cell_type": "markdown",
   "metadata": {},
   "source": [
    "# Vendors"
   ]
  },
  {
   "cell_type": "markdown",
   "metadata": {},
   "source": [
    "## Get Vendors"
   ]
  },
  {
   "cell_type": "code",
   "execution_count": null,
   "metadata": {
    "ExecuteTime": {
     "end_time": "2023-11-13T17:38:50.436987Z",
     "start_time": "2023-11-13T17:38:50.408275Z"
    },
    "tags": []
   },
   "outputs": [],
   "source": [
    "vendor_qs = entity_model.get_vendors()\n",
    "pd.DataFrame(vendor_qs.values())"
   ]
  },
  {
   "cell_type": "markdown",
   "metadata": {},
   "source": [
    "## Create Vendor"
   ]
  },
  {
   "cell_type": "code",
   "execution_count": null,
   "metadata": {
    "ExecuteTime": {
     "end_time": "2023-11-13T17:38:50.834893Z",
     "start_time": "2023-11-13T17:38:50.805449Z"
    },
    "tags": []
   },
   "outputs": [],
   "source": [
    "vendor_model = entity_model.create_vendor(vendor_model_kwargs={\n",
    "    'vendor_name': 'ACME LLC',\n",
    "    'description': 'A Reliable Vendor!'\n",
    "})"
   ]
  },
  {
   "cell_type": "markdown",
   "metadata": {},
   "source": [
    "# Invoices"
   ]
  },
  {
   "cell_type": "markdown",
   "metadata": {},
   "source": [
    "## Get Invoices"
   ]
  },
  {
   "cell_type": "code",
   "execution_count": null,
   "metadata": {
    "ExecuteTime": {
     "end_time": "2023-11-13T17:38:51.436559Z",
     "start_time": "2023-11-13T17:38:51.390950Z"
    },
    "tags": []
   },
   "outputs": [],
   "source": [
    "invoices_qs = entity_model.get_invoices()\n",
    "pd.DataFrame(invoices_qs.values())"
   ]
  },
  {
   "cell_type": "markdown",
   "metadata": {},
   "source": [
    "## Create Invoice"
   ]
  },
  {
   "cell_type": "code",
   "execution_count": null,
   "metadata": {
    "ExecuteTime": {
     "end_time": "2023-11-13T17:38:51.796910Z",
     "start_time": "2023-11-13T17:38:51.779331Z"
    },
    "tags": []
   },
   "outputs": [],
   "source": [
    "invoice_model = entity_model.create_invoice(\n",
    "    customer_model='C-0000000006',\n",
    "    terms=InvoiceModel.TERMS_NET_30\n",
    ")"
   ]
  },
  {
   "cell_type": "code",
   "execution_count": null,
   "metadata": {
    "ExecuteTime": {
     "end_time": "2023-11-13T17:38:52.002770Z",
     "start_time": "2023-11-13T17:38:51.978894Z"
    }
   },
   "outputs": [],
   "source": [
    "invoice_model"
   ]
  },
  {
   "cell_type": "markdown",
   "metadata": {},
   "source": [
    "## Add Items to Invoices"
   ]
  },
  {
   "cell_type": "code",
   "execution_count": null,
   "metadata": {
    "ExecuteTime": {
     "end_time": "2023-11-13T17:38:52.400529Z",
     "start_time": "2023-11-13T17:38:52.379341Z"
    },
    "tags": []
   },
   "outputs": [],
   "source": [
    "invoices_item_models = invoice_model.get_item_model_qs()\n",
    "\n",
    "# K= number of items...\n",
    "K = 6\n",
    "\n",
    "invoice_itemtxs = {\n",
    "    im.item_number: {\n",
    "        'unit_cost': round(random() * 10, 2),\n",
    "        'quantity': round(random() * 100, 2),\n",
    "        'total_amount': None\n",
    "    } for im in choices(invoices_item_models, k=K)\n",
    "}\n",
    "\n",
    "# Choose operation ITEMIZE_APPEND to append itemtxs...\n",
    "invoice_itemtxs = invoice_model.migrate_itemtxs(itemtxs=invoice_itemtxs,\n",
    "                                                commit=True,\n",
    "                                                operation=InvoiceModel.ITEMIZE_REPLACE)\n",
    "invoice_itemtxs"
   ]
  },
  {
   "cell_type": "code",
   "execution_count": null,
   "metadata": {
    "ExecuteTime": {
     "end_time": "2023-11-13T17:38:52.603417Z",
     "start_time": "2023-11-13T17:38:52.579222Z"
    },
    "tags": []
   },
   "outputs": [],
   "source": [
    "invoice_model.amount_due"
   ]
  },
  {
   "cell_type": "markdown",
   "metadata": {},
   "source": [
    "# Bills"
   ]
  },
  {
   "cell_type": "markdown",
   "metadata": {},
   "source": [
    "## Get Bills"
   ]
  },
  {
   "cell_type": "code",
   "execution_count": null,
   "metadata": {
    "ExecuteTime": {
     "end_time": "2023-11-13T17:38:53.188387Z",
     "start_time": "2023-11-13T17:38:53.161302Z"
    },
    "tags": []
   },
   "outputs": [],
   "source": [
    "bills_qs = entity_model.get_bills()\n",
    "pd.DataFrame(bills_qs.values())"
   ]
  },
  {
   "cell_type": "markdown",
   "metadata": {},
   "source": [
    "## Create Bill"
   ]
  },
  {
   "cell_type": "code",
   "execution_count": null,
   "metadata": {
    "ExecuteTime": {
     "end_time": "2023-11-13T17:38:53.558286Z",
     "start_time": "2023-11-13T17:38:53.536377Z"
    },
    "tags": []
   },
   "outputs": [],
   "source": [
    "bill_model = entity_model.create_bill(\n",
    "    vendor_model='V-0000000002',\n",
    "    terms=BillModel.TERMS_NET_60\n",
    ")"
   ]
  },
  {
   "cell_type": "code",
   "execution_count": null,
   "metadata": {
    "ExecuteTime": {
     "end_time": "2023-11-13T17:38:53.763612Z",
     "start_time": "2023-11-13T17:38:53.740532Z"
    },
    "collapsed": false
   },
   "outputs": [],
   "source": [
    "bill_model"
   ]
  },
  {
   "cell_type": "markdown",
   "metadata": {},
   "source": [
    "## Add Items to Bills"
   ]
  },
  {
   "cell_type": "code",
   "execution_count": null,
   "metadata": {
    "ExecuteTime": {
     "end_time": "2023-11-13T17:38:54.139675Z",
     "start_time": "2023-11-13T17:38:54.123861Z"
    },
    "tags": []
   },
   "outputs": [],
   "source": [
    "bill_item_models = bill_model.get_item_model_qs()\n",
    "\n",
    "K = 6\n",
    "\n",
    "bill_itemtxs = {\n",
    "    im.item_number: {\n",
    "        'unit_cost': round(random() * 10, 2),\n",
    "        'quantity': round(random() * 100, 2),\n",
    "        'total_amount': None\n",
    "    } for im in choices(bill_item_models, k=K)\n",
    "}\n",
    "\n",
    "# Choose operation ITEMIZE_APPEND to append itemtxs...\n",
    "bill_itemtxs = bill_model.migrate_itemtxs(itemtxs=bill_itemtxs,\n",
    "                                          commit=True,\n",
    "                                          operation=BillModel.ITEMIZE_REPLACE)\n",
    "\n",
    "bill_itemtxs"
   ]
  },
  {
   "cell_type": "code",
   "execution_count": null,
   "metadata": {
    "ExecuteTime": {
     "end_time": "2023-11-13T17:38:54.342841Z",
     "start_time": "2023-11-13T17:38:54.314410Z"
    },
    "tags": []
   },
   "outputs": [],
   "source": [
    "bill_model.amount_due"
   ]
  },
  {
   "cell_type": "markdown",
   "metadata": {},
   "source": [
    "# Purchase Orders"
   ]
  },
  {
   "cell_type": "markdown",
   "metadata": {},
   "source": [
    "## Get Purchase Orders"
   ]
  },
  {
   "cell_type": "code",
   "execution_count": null,
   "metadata": {
    "ExecuteTime": {
     "end_time": "2023-11-13T17:38:54.954012Z",
     "start_time": "2023-11-13T17:38:54.929275Z"
    },
    "tags": []
   },
   "outputs": [],
   "source": [
    "purchase_orders_qs = entity_model.get_purchase_orders()\n",
    "pd.DataFrame(purchase_orders_qs.values())"
   ]
  },
  {
   "cell_type": "markdown",
   "metadata": {},
   "source": [
    "## Create Purchase Order"
   ]
  },
  {
   "cell_type": "code",
   "execution_count": null,
   "metadata": {
    "ExecuteTime": {
     "end_time": "2023-11-13T17:38:55.344629Z",
     "start_time": "2023-11-13T17:38:55.315784Z"
    },
    "tags": []
   },
   "outputs": [],
   "source": [
    "po_model = entity_model.create_purchase_order()"
   ]
  },
  {
   "cell_type": "markdown",
   "metadata": {},
   "source": [
    "## Add Items to Purchase Orders"
   ]
  },
  {
   "cell_type": "code",
   "execution_count": null,
   "metadata": {
    "ExecuteTime": {
     "end_time": "2023-11-13T17:38:55.912692Z",
     "start_time": "2023-11-13T17:38:55.895543Z"
    },
    "tags": []
   },
   "outputs": [],
   "source": [
    "po_item_models = po_model.get_item_model_qs()\n",
    "\n",
    "K = 6\n",
    "\n",
    "po_itemtxs = {\n",
    "    im.item_number: {\n",
    "        'unit_cost': round(random() * 10, 2),\n",
    "        'quantity': round(random() * 100, 2),\n",
    "        'total_amount': None\n",
    "    } for im in choices(po_item_models, k=K)\n",
    "}\n",
    "\n",
    "# Choose operation ITEMIZE_APPEND to append itemtxs...\n",
    "po_itemtxs = po_model.migrate_itemtxs(itemtxs=po_itemtxs,\n",
    "                                      commit=True,\n",
    "                                      operation=EstimateModel.ITEMIZE_REPLACE)\n",
    "\n",
    "po_itemtxs"
   ]
  },
  {
   "cell_type": "code",
   "execution_count": null,
   "metadata": {
    "ExecuteTime": {
     "end_time": "2023-11-13T17:38:56.122056Z",
     "start_time": "2023-11-13T17:38:56.097901Z"
    },
    "tags": []
   },
   "outputs": [],
   "source": [
    "po_model.po_amount"
   ]
  },
  {
   "cell_type": "markdown",
   "metadata": {},
   "source": [
    "# Estimates/Contracts"
   ]
  },
  {
   "cell_type": "markdown",
   "metadata": {},
   "source": [
    "## Get Estimates/Contracts"
   ]
  },
  {
   "cell_type": "code",
   "execution_count": null,
   "metadata": {
    "ExecuteTime": {
     "end_time": "2023-11-13T17:38:56.777584Z",
     "start_time": "2023-11-13T17:38:56.746167Z"
    },
    "tags": []
   },
   "outputs": [],
   "source": [
    "estimates_qs = entity_model.get_estimates()\n",
    "pd.DataFrame(estimates_qs.values())"
   ]
  },
  {
   "cell_type": "markdown",
   "metadata": {},
   "source": [
    "## Create Estimate"
   ]
  },
  {
   "cell_type": "code",
   "execution_count": null,
   "metadata": {
    "ExecuteTime": {
     "end_time": "2023-11-13T17:38:57.189141Z",
     "start_time": "2023-11-13T17:38:57.159762Z"
    },
    "tags": []
   },
   "outputs": [],
   "source": [
    "estimate_model = entity_model.create_estimate(\n",
    "    estimate_title='A quote for new potential customer!',\n",
    "    customer_model='C-0000000009',\n",
    "    contract_terms=EstimateModel.CONTRACT_TERMS_FIXED\n",
    ")"
   ]
  },
  {
   "cell_type": "markdown",
   "metadata": {},
   "source": [
    "## Add Items to Estimates"
   ]
  },
  {
   "cell_type": "code",
   "execution_count": null,
   "metadata": {
    "ExecuteTime": {
     "end_time": "2023-11-13T17:38:57.581800Z",
     "start_time": "2023-11-13T17:38:57.560101Z"
    },
    "tags": []
   },
   "outputs": [],
   "source": [
    "estimate_item_models = estimate_model.get_item_model_qs()\n",
    "\n",
    "K = 6\n",
    "\n",
    "estimate_itemtxs = {\n",
    "    im.item_number: {\n",
    "        'unit_cost': round(random() * 10, 2),\n",
    "        'unit_revenue': round(random() * 20, 2),\n",
    "        'quantity': round(random() * 100, 2),\n",
    "        'total_amount': None\n",
    "    } for im in choices(estimate_item_models, k=K)\n",
    "}\n",
    "\n",
    "# Choose operation ITEMIZE_APPEND to append itemtxs...\n",
    "estimate_itemtxs = estimate_model.migrate_itemtxs(itemtxs=estimate_itemtxs,\n",
    "                                                  commit=True,\n",
    "                                                  operation=EstimateModel.ITEMIZE_REPLACE)\n",
    "\n",
    "estimate_itemtxs"
   ]
  },
  {
   "cell_type": "code",
   "execution_count": null,
   "metadata": {
    "ExecuteTime": {
     "end_time": "2023-11-13T17:38:57.798395Z",
     "start_time": "2023-11-13T17:38:57.781208Z"
    },
    "tags": []
   },
   "outputs": [],
   "source": [
    "estimate_model.get_cost_estimate()"
   ]
  },
  {
   "cell_type": "code",
   "execution_count": null,
   "metadata": {
    "ExecuteTime": {
     "end_time": "2023-11-13T17:38:57.996396Z",
     "start_time": "2023-11-13T17:38:57.980598Z"
    },
    "tags": []
   },
   "outputs": [],
   "source": [
    "estimate_model.get_revenue_estimate()"
   ]
  },
  {
   "cell_type": "code",
   "execution_count": null,
   "metadata": {
    "ExecuteTime": {
     "end_time": "2023-11-13T17:38:58.187627Z",
     "start_time": "2023-11-13T17:38:58.171849Z"
    },
    "tags": []
   },
   "outputs": [],
   "source": [
    "estimate_model.get_profit_estimate()"
   ]
  },
  {
   "cell_type": "code",
   "execution_count": null,
   "metadata": {
    "ExecuteTime": {
     "end_time": "2023-11-13T17:38:58.396312Z",
     "start_time": "2023-11-13T17:38:58.373051Z"
    },
    "tags": []
   },
   "outputs": [],
   "source": [
    "estimate_model.get_gross_margin_estimate(as_percent=True)"
   ]
  },
  {
   "cell_type": "markdown",
   "metadata": {},
   "source": [
    "# Bank Accounts"
   ]
  },
  {
   "cell_type": "markdown",
   "metadata": {},
   "source": [
    "## Get Bank Accounts"
   ]
  },
  {
   "cell_type": "code",
   "execution_count": null,
   "metadata": {
    "ExecuteTime": {
     "end_time": "2023-11-13T17:38:58.994403Z",
     "start_time": "2023-11-13T17:38:58.964192Z"
    }
   },
   "outputs": [],
   "source": [
    "bank_accounts_qs = entity_model.get_bank_accounts()\n",
    "pd.DataFrame(bank_accounts_qs.values())"
   ]
  },
  {
   "cell_type": "markdown",
   "metadata": {},
   "source": [
    "## Create Bank Account"
   ]
  },
  {
   "cell_type": "code",
   "execution_count": null,
   "metadata": {
    "ExecuteTime": {
     "end_time": "2023-11-13T17:38:59.380280Z",
     "start_time": "2023-11-13T17:38:59.346992Z"
    }
   },
   "outputs": [],
   "source": [
    "bank_account_model = entity_model.create_bank_account(name='A big bank account!',\n",
    "                                                      account_type='checking')"
   ]
  },
  {
   "cell_type": "markdown",
   "metadata": {},
   "source": [
    "# Items"
   ]
  },
  {
   "cell_type": "markdown",
   "metadata": {},
   "source": [
    "## Unit of Measures"
   ]
  },
  {
   "cell_type": "markdown",
   "metadata": {},
   "source": [
    "### Get Unit of Measures"
   ]
  },
  {
   "cell_type": "code",
   "execution_count": null,
   "metadata": {
    "ExecuteTime": {
     "end_time": "2023-11-13T17:39:00.217872Z",
     "start_time": "2023-11-13T17:39:00.190021Z"
    }
   },
   "outputs": [],
   "source": [
    "uom_qs = entity_model.get_uom_all()\n",
    "pd.DataFrame(uom_qs.values())"
   ]
  },
  {
   "cell_type": "markdown",
   "metadata": {},
   "source": [
    "### Create a UOM"
   ]
  },
  {
   "cell_type": "code",
   "execution_count": null,
   "metadata": {
    "ExecuteTime": {
     "end_time": "2023-11-13T17:39:00.607560Z",
     "start_time": "2023-11-13T17:39:00.582393Z"
    }
   },
   "outputs": [],
   "source": [
    "uom_model_ft = entity_model.create_uom(\n",
    "    name='Linear Feet',\n",
    "    unit_abbr='lin-ft'\n",
    ")"
   ]
  },
  {
   "cell_type": "markdown",
   "metadata": {},
   "source": [
    "### Get Some UoMs"
   ]
  },
  {
   "cell_type": "code",
   "execution_count": null,
   "metadata": {
    "ExecuteTime": {
     "end_time": "2023-11-13T17:39:01.844659Z",
     "start_time": "2023-11-13T17:39:01.813038Z"
    }
   },
   "outputs": [],
   "source": [
    "uom_model_unit = uom_qs.get(unit_abbr__exact='unit')\n",
    "uom_model_man_hr = uom_qs.get(unit_abbr__exact='man-hour')"
   ]
  },
  {
   "cell_type": "markdown",
   "metadata": {},
   "source": [
    "## Expenses"
   ]
  },
  {
   "cell_type": "markdown",
   "metadata": {},
   "source": [
    "### Get Expense Items"
   ]
  },
  {
   "cell_type": "code",
   "execution_count": null,
   "metadata": {
    "ExecuteTime": {
     "end_time": "2023-11-13T17:39:02.418520Z",
     "start_time": "2023-11-13T17:39:02.390575Z"
    }
   },
   "outputs": [],
   "source": [
    "expenses_qs = entity_model.get_items_expenses()\n",
    "pd.DataFrame(expenses_qs.values())"
   ]
  },
  {
   "cell_type": "markdown",
   "metadata": {},
   "source": [
    "### Create Expense Item"
   ]
  },
  {
   "cell_type": "code",
   "execution_count": null,
   "metadata": {
    "ExecuteTime": {
     "end_time": "2023-11-13T17:39:02.777228Z",
     "start_time": "2023-11-13T17:39:02.758154Z"
    }
   },
   "outputs": [],
   "source": [
    "expense_item_model = entity_model.create_item_expense(\n",
    "    name='Premium Pencils',\n",
    "    uom_model=uom_model_unit,\n",
    "    expense_type=ItemModel.ITEM_TYPE_MATERIAL\n",
    ")"
   ]
  },
  {
   "cell_type": "code",
   "execution_count": null,
   "metadata": {
    "ExecuteTime": {
     "end_time": "2023-11-13T17:39:02.981722Z",
     "start_time": "2023-11-13T17:39:02.953563Z"
    }
   },
   "outputs": [],
   "source": [
    "expense_item_model.is_expense()"
   ]
  },
  {
   "cell_type": "markdown",
   "metadata": {},
   "source": [
    "## Services"
   ]
  },
  {
   "cell_type": "markdown",
   "metadata": {},
   "source": [
    "### Get Service Items"
   ]
  },
  {
   "cell_type": "code",
   "execution_count": null,
   "metadata": {
    "ExecuteTime": {
     "end_time": "2023-11-13T17:39:03.658229Z",
     "start_time": "2023-11-13T17:39:03.615357Z"
    }
   },
   "outputs": [],
   "source": [
    "services_qs = entity_model.get_items_services()\n",
    "pd.DataFrame(services_qs.values())"
   ]
  },
  {
   "cell_type": "markdown",
   "metadata": {},
   "source": [
    "### Create Service Item"
   ]
  },
  {
   "cell_type": "code",
   "execution_count": null,
   "metadata": {
    "ExecuteTime": {
     "end_time": "2023-11-13T17:39:04.030611Z",
     "start_time": "2023-11-13T17:39:04.013790Z"
    }
   },
   "outputs": [],
   "source": [
    "service_model = entity_model.create_item_service(\n",
    "    name='Yoga Class',\n",
    "    uom_model=uom_model_man_hr\n",
    ")"
   ]
  },
  {
   "cell_type": "code",
   "execution_count": null,
   "metadata": {
    "ExecuteTime": {
     "end_time": "2023-11-13T17:39:04.298630Z",
     "start_time": "2023-11-13T17:39:04.238638Z"
    }
   },
   "outputs": [],
   "source": [
    "service_model.is_service()"
   ]
  },
  {
   "cell_type": "markdown",
   "metadata": {},
   "source": [
    "## Products"
   ]
  },
  {
   "cell_type": "markdown",
   "metadata": {},
   "source": [
    "### Get Product Items"
   ]
  },
  {
   "cell_type": "code",
   "execution_count": null,
   "metadata": {
    "ExecuteTime": {
     "end_time": "2023-11-13T17:39:05.188455Z",
     "start_time": "2023-11-13T17:39:05.159910Z"
    }
   },
   "outputs": [],
   "source": [
    "products_qs = entity_model.get_items_products()\n",
    "pd.DataFrame(products_qs.values())"
   ]
  },
  {
   "cell_type": "markdown",
   "metadata": {},
   "source": [
    "### Create Product Items"
   ]
  },
  {
   "cell_type": "code",
   "execution_count": null,
   "metadata": {
    "ExecuteTime": {
     "end_time": "2023-11-13T17:39:05.705683Z",
     "start_time": "2023-11-13T17:39:05.688641Z"
    }
   },
   "outputs": [],
   "source": [
    "product_model = entity_model.create_item_product(\n",
    "    name='1/2\" Premium PVC Pipe',\n",
    "    uom_model=uom_model_ft,\n",
    "    item_type=ItemModel.ITEM_TYPE_MATERIAL\n",
    ")"
   ]
  },
  {
   "cell_type": "code",
   "execution_count": null,
   "metadata": {
    "ExecuteTime": {
     "end_time": "2023-11-13T17:39:05.935440Z",
     "start_time": "2023-11-13T17:39:05.909599Z"
    }
   },
   "outputs": [],
   "source": [
    "product_model.is_product()"
   ]
  },
  {
   "cell_type": "markdown",
   "metadata": {},
   "source": [
    "## Inventory"
   ]
  },
  {
   "cell_type": "markdown",
   "metadata": {},
   "source": [
    "### Get Inventory Items"
   ]
  },
  {
   "cell_type": "code",
   "execution_count": null,
   "metadata": {
    "ExecuteTime": {
     "end_time": "2023-11-13T17:39:06.501687Z",
     "start_time": "2023-11-13T17:39:06.477597Z"
    }
   },
   "outputs": [],
   "source": [
    "inventory_qs = entity_model.get_items_inventory()\n",
    "pd.DataFrame(inventory_qs.values())"
   ]
  },
  {
   "cell_type": "markdown",
   "metadata": {},
   "source": [
    "### Create Inventory Items"
   ]
  },
  {
   "cell_type": "code",
   "execution_count": null,
   "metadata": {
    "ExecuteTime": {
     "end_time": "2023-11-13T17:39:06.875354Z",
     "start_time": "2023-11-13T17:39:06.860410Z"
    }
   },
   "outputs": [],
   "source": [
    "inventory_model = entity_model.create_item_inventory(\n",
    "    name='A Home to Flip!',\n",
    "    uom_model=uom_model_unit,\n",
    "    item_type=ItemModel.ITEM_TYPE_LUMP_SUM\n",
    ")"
   ]
  },
  {
   "cell_type": "code",
   "execution_count": null,
   "metadata": {
    "ExecuteTime": {
     "end_time": "2023-11-13T17:39:07.078870Z",
     "start_time": "2023-11-13T17:39:07.055153Z"
    }
   },
   "outputs": [],
   "source": [
    "inventory_model.is_inventory()"
   ]
  },
  {
   "cell_type": "markdown",
   "metadata": {},
   "source": [
    "# Financial Statement PDF Reports"
   ]
  },
  {
   "cell_type": "markdown",
   "metadata": {},
   "source": [
    "## Set Up\n",
    "- Must enable PDF support by installing dependencies via *pipenv*.\n",
    "    - pipenv install --categories pdf"
   ]
  },
  {
   "cell_type": "markdown",
   "metadata": {},
   "source": [
    "## Balance Sheet"
   ]
  },
  {
   "cell_type": "code",
   "execution_count": null,
   "metadata": {
    "ExecuteTime": {
     "end_time": "2023-11-13T17:39:07.699899Z",
     "start_time": "2023-11-13T17:39:07.660578Z"
    }
   },
   "outputs": [],
   "source": [
    "bs_report = entity_model.get_balance_sheet_statement(\n",
    "    to_date=date(2022, 12, 31),\n",
    "    save_pdf=True,\n",
    "    filepath='./'\n",
    ")\n",
    "# save_pdf=True saves the PDF report in the project's BASE_DIR.\n",
    "# filename and filepath may also be specified...\n",
    "# will raise not implemented error if PDF support is not enabled..."
   ]
  },
  {
   "cell_type": "markdown",
   "metadata": {},
   "source": [
    "### Balance Sheet Statement Raw Data"
   ]
  },
  {
   "cell_type": "code",
   "execution_count": null,
   "metadata": {
    "ExecuteTime": {
     "end_time": "2023-11-13T17:39:08.108674Z",
     "start_time": "2023-11-13T17:39:08.067990Z"
    }
   },
   "outputs": [],
   "source": [
    "bs_report.get_report_data()"
   ]
  },
  {
   "cell_type": "markdown",
   "metadata": {},
   "source": [
    "## Income Statement"
   ]
  },
  {
   "cell_type": "code",
   "execution_count": null,
   "metadata": {
    "ExecuteTime": {
     "end_time": "2023-11-13T17:39:08.478493Z",
     "start_time": "2023-11-13T17:39:08.456893Z"
    }
   },
   "outputs": [],
   "source": [
    "ic_report = entity_model.get_income_statement(\n",
    "    from_date=date(2022, 1, 1),\n",
    "    to_date=date(2022, 12, 31),\n",
    "    save_pdf=True,\n",
    "    filepath='./'\n",
    ")\n",
    "# save_pdf=True saves the PDF report in the project's BASE_DIR.\n",
    "# filename and filepath may also be specified...\n",
    "# will raise not implemented error if PDF support is not enabled..."
   ]
  },
  {
   "cell_type": "markdown",
   "metadata": {},
   "source": [
    "### Income Statement Raw Data"
   ]
  },
  {
   "cell_type": "code",
   "execution_count": null,
   "metadata": {
    "ExecuteTime": {
     "end_time": "2023-11-13T17:39:08.890076Z",
     "start_time": "2023-11-13T17:39:08.866696Z"
    },
    "scrolled": true
   },
   "outputs": [],
   "source": [
    "ic_report.get_report_data()"
   ]
  },
  {
   "cell_type": "markdown",
   "metadata": {},
   "source": [
    "## Cash Flow Statement"
   ]
  },
  {
   "cell_type": "code",
   "execution_count": null,
   "metadata": {
    "ExecuteTime": {
     "end_time": "2023-11-13T17:39:09.303449Z",
     "start_time": "2023-11-13T17:39:09.280676Z"
    }
   },
   "outputs": [],
   "source": [
    "cf_report = entity_model.get_cash_flow_statement(\n",
    "    from_date=date(2022, 1, 1),\n",
    "    to_date=date(2022, 12, 31),\n",
    "    save_pdf=True,\n",
    "    filepath='./'\n",
    ")\n",
    "# save_pdf=True saves the PDF report in the project's BASE_DIR.\n",
    "# filename and filepath may also be specified..."
   ]
  },
  {
   "cell_type": "markdown",
   "metadata": {},
   "source": [
    "### Cash Flow Statement Raw Data"
   ]
  },
  {
   "cell_type": "code",
   "execution_count": null,
   "metadata": {
    "ExecuteTime": {
     "end_time": "2023-11-13T17:39:09.707698Z",
     "start_time": "2023-11-13T17:39:09.682536Z"
    }
   },
   "outputs": [],
   "source": [
    "cf_report.get_report_data()"
   ]
  },
  {
   "cell_type": "markdown",
   "metadata": {},
   "source": [
    "## All Financial Statements Data in a single Call"
   ]
  },
  {
   "cell_type": "code",
   "execution_count": null,
   "metadata": {
    "ExecuteTime": {
     "end_time": "2023-11-13T17:39:10.110057Z",
     "start_time": "2023-11-13T17:39:10.086384Z"
    }
   },
   "outputs": [],
   "source": [
    "reports = entity_model.get_financial_statements(\n",
    "    user_model=user_model,\n",
    "    from_date=date(2022, 1, 1),\n",
    "    to_date=date(2022, 12, 31),\n",
    "    save_pdf=True,\n",
    "    filepath='./'\n",
    ")\n",
    "# save_pdf=True saves the PDF report in the project's BASE_DIR.\n",
    "# filename and filepath may also be specified..."
   ]
  },
  {
   "cell_type": "code",
   "execution_count": null,
   "metadata": {
    "ExecuteTime": {
     "end_time": "2023-11-13T17:39:10.326231Z",
     "start_time": "2023-11-13T17:39:10.310307Z"
    }
   },
   "outputs": [],
   "source": [
    "reports.balance_sheet_statement.get_report_data()"
   ]
  },
  {
   "cell_type": "code",
   "execution_count": null,
   "metadata": {
    "ExecuteTime": {
     "end_time": "2023-11-13T17:39:10.529926Z",
     "start_time": "2023-11-13T17:39:10.516200Z"
    }
   },
   "outputs": [],
   "source": [
    "reports.income_statement.get_report_data()"
   ]
  },
  {
   "cell_type": "code",
   "execution_count": null,
   "metadata": {
    "ExecuteTime": {
     "end_time": "2023-11-13T17:39:11.050856Z",
     "start_time": "2023-11-13T17:39:11.037552Z"
    }
   },
   "outputs": [],
   "source": [
    "reports.cash_flow_statement.get_report_data()"
   ]
  }
 ],
 "metadata": {
  "kernelspec": {
   "display_name": "Python 3 (ipykernel)",
   "language": "python",
   "name": "python3"
  },
  "language_info": {
   "codemirror_mode": {
    "name": "ipython",
    "version": 3
   },
   "file_extension": ".py",
   "mimetype": "text/x-python",
   "name": "python",
   "nbconvert_exporter": "python",
   "pygments_lexer": "ipython3",
   "version": "3.11.6"
  }
 },
 "nbformat": 4,
 "nbformat_minor": 4
}
